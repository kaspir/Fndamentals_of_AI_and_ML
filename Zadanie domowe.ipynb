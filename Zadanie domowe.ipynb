{
 "cells": [
  {
   "cell_type": "markdown",
   "metadata": {},
   "source": [
    "# Zadanie domowe"
   ]
  },
  {
   "cell_type": "markdown",
   "metadata": {},
   "source": [
    "Zestaw danych Bangla zawiera różne cechy czasu i częstotliwości z plików MP3. \n",
    "Zawartość\n",
    "Ten zestaw danych zawiera oznaczone dane 1742 piosenek Bangla oznaczonych w sześciu klasach, a mianowicie:\n",
    "\n",
    "Bangla Adhunik\n",
    "Bangla Hip-Hop\n",
    "Muzyka zespołu Bangla\n",
    "Nazrulgeeti\n",
    "Palligeeti\n",
    "Rabindra Sangeet\n",
    "\n",
    "Każdy z wpisów zawiera następujące cechy:\n",
    "\n",
    "zero_crossing\n",
    "spectral_centroid\n",
    "spectral_rolloff\n",
    "spectral_bandwidth\n",
    "chroma_frequency\n",
    "rmse\n",
    "delta\n",
    "melspectogram\n",
    "tempo\n",
    "mfcc(0-19)\n",
    "\n",
    "Wszystkie wymienione funkcje są podane w wartościach liczbowych."
   ]
  },
  {
   "cell_type": "markdown",
   "metadata": {},
   "source": [
    "Zadanie 1: Dowiedz się, jak zdefiniowane są wyżej wymienione zmienne.\n",
    "Dla przykładu: Zero crossing to wskaźnik przejścia przez zero (ZCR). Jest to szybkość, z jaką sygnał zmienia się z dodatniego na zero na ujemny lub z ujemnego na zero na dodatni. Jego wartość jest szeroko stosowana zarówno w rozpoznawaniu mowy, jak i wyszukiwaniu informacji muzycznych, będąc kluczową cechą do klasyfikowania dźwięków perkusyjnych."
   ]
  },
  {
   "cell_type": "markdown",
   "metadata": {},
   "source": [
    "## Biblioteki"
   ]
  },
  {
   "cell_type": "markdown",
   "metadata": {},
   "source": [
    "Zadanie 2: Znasz już kilka bibliotek z poniższej listy. W tym zadaniu celem jest poznanie bibliotek keras. Znajdź dokumentację Sequential, regularizers oraz layers."
   ]
  },
  {
   "cell_type": "markdown",
   "metadata": {},
   "source": [
    "Czym jest sekwencyjna sieć neuronowa?"
   ]
  },
  {
   "cell_type": "markdown",
   "metadata": {},
   "source": [
    "Czym są regularyzacje l2 i l1?"
   ]
  },
  {
   "cell_type": "markdown",
   "metadata": {},
   "source": [
    "Czym w warstwach jest Dense a czym dropout?"
   ]
  },
  {
   "cell_type": "code",
   "execution_count": 36,
   "metadata": {},
   "outputs": [],
   "source": [
    "import keras\n",
    "from keras.models import Sequential\n",
    "from keras.regularizers import l2, l1\n",
    "from keras.layers import Dense, Dropout\n",
    "from sklearn.preprocessing import LabelEncoder\n",
    "from sklearn.preprocessing import StandardScaler\n",
    "from sklearn.metrics import confusion_matrix\n",
    "from sklearn.metrics import classification_report\n",
    "from sklearn.model_selection import train_test_split\n",
    "import numpy\n",
    "import pandas as pd\n",
    "import matplotlib.pyplot as plt\n",
    "from matplotlib import cm\n",
    "%matplotlib inline\n",
    "import seaborn as sn"
   ]
  },
  {
   "cell_type": "markdown",
   "metadata": {},
   "source": [
    "Pobierzmy nasz zbiór danych i zobaczmy, co jest w środku."
   ]
  },
  {
   "cell_type": "code",
   "execution_count": 7,
   "metadata": {},
   "outputs": [
    {
     "data": {
      "text/html": [
       "<div>\n",
       "<style scoped>\n",
       "    .dataframe tbody tr th:only-of-type {\n",
       "        vertical-align: middle;\n",
       "    }\n",
       "\n",
       "    .dataframe tbody tr th {\n",
       "        vertical-align: top;\n",
       "    }\n",
       "\n",
       "    .dataframe thead th {\n",
       "        text-align: right;\n",
       "    }\n",
       "</style>\n",
       "<table border=\"1\" class=\"dataframe\">\n",
       "  <thead>\n",
       "    <tr style=\"text-align: right;\">\n",
       "      <th></th>\n",
       "      <th>file_name</th>\n",
       "      <th>zero_crossing</th>\n",
       "      <th>spectral_centroid</th>\n",
       "      <th>spectral_rolloff</th>\n",
       "      <th>spectral_bandwidth</th>\n",
       "      <th>chroma_frequency</th>\n",
       "      <th>rmse</th>\n",
       "      <th>delta</th>\n",
       "      <th>melspectogram</th>\n",
       "      <th>tempo</th>\n",
       "      <th>mfcc0</th>\n",
       "      <th>mfcc1</th>\n",
       "      <th>mfcc2</th>\n",
       "      <th>mfcc3</th>\n",
       "      <th>mfcc4</th>\n",
       "      <th>mfcc5</th>\n",
       "      <th>mfcc6</th>\n",
       "      <th>mfcc7</th>\n",
       "      <th>mfcc8</th>\n",
       "      <th>mfcc9</th>\n",
       "      <th>mfcc10</th>\n",
       "      <th>mfcc11</th>\n",
       "      <th>mfcc12</th>\n",
       "      <th>mfcc13</th>\n",
       "      <th>mfcc14</th>\n",
       "      <th>mfcc15</th>\n",
       "      <th>mfcc16</th>\n",
       "      <th>mfcc17</th>\n",
       "      <th>mfcc18</th>\n",
       "      <th>mfcc19</th>\n",
       "      <th>label</th>\n",
       "    </tr>\n",
       "  </thead>\n",
       "  <tbody>\n",
       "    <tr>\n",
       "      <th>0</th>\n",
       "      <td>(Tomake Paowa)  - Hridoy Khan &amp; Tasnim Anika F...</td>\n",
       "      <td>125424</td>\n",
       "      <td>1770.889394</td>\n",
       "      <td>3893.575094</td>\n",
       "      <td>2414.810615</td>\n",
       "      <td>0.315795</td>\n",
       "      <td>0.222552</td>\n",
       "      <td>-7.661680e-08</td>\n",
       "      <td>12.977708</td>\n",
       "      <td>172.265625</td>\n",
       "      <td>-107.906257</td>\n",
       "      <td>116.494382</td>\n",
       "      <td>23.320857</td>\n",
       "      <td>17.535451</td>\n",
       "      <td>9.382846</td>\n",
       "      <td>6.854393</td>\n",
       "      <td>-0.293704</td>\n",
       "      <td>-0.007064</td>\n",
       "      <td>-7.914926</td>\n",
       "      <td>1.532803</td>\n",
       "      <td>-5.300817</td>\n",
       "      <td>3.164991</td>\n",
       "      <td>-3.867179</td>\n",
       "      <td>5.325016</td>\n",
       "      <td>1.176338</td>\n",
       "      <td>-0.788755</td>\n",
       "      <td>-6.343288</td>\n",
       "      <td>2.488148</td>\n",
       "      <td>0.047027</td>\n",
       "      <td>7.211918</td>\n",
       "      <td>adhunik</td>\n",
       "    </tr>\n",
       "    <tr>\n",
       "      <th>1</th>\n",
       "      <td>008. Jai Bole Jete Naire - Jewel (1980).mp3</td>\n",
       "      <td>308658</td>\n",
       "      <td>2549.349989</td>\n",
       "      <td>4986.658880</td>\n",
       "      <td>2193.617981</td>\n",
       "      <td>0.310113</td>\n",
       "      <td>0.156930</td>\n",
       "      <td>8.893313e-08</td>\n",
       "      <td>5.118271</td>\n",
       "      <td>143.554688</td>\n",
       "      <td>-68.452095</td>\n",
       "      <td>81.151777</td>\n",
       "      <td>-35.804154</td>\n",
       "      <td>44.550898</td>\n",
       "      <td>-17.021686</td>\n",
       "      <td>18.244996</td>\n",
       "      <td>-18.741383</td>\n",
       "      <td>12.376125</td>\n",
       "      <td>-16.116041</td>\n",
       "      <td>8.450346</td>\n",
       "      <td>-11.745541</td>\n",
       "      <td>8.358729</td>\n",
       "      <td>-12.691169</td>\n",
       "      <td>11.393858</td>\n",
       "      <td>-6.176215</td>\n",
       "      <td>9.947330</td>\n",
       "      <td>-6.987708</td>\n",
       "      <td>7.935905</td>\n",
       "      <td>-9.452455</td>\n",
       "      <td>1.582699</td>\n",
       "      <td>adhunik</td>\n",
       "    </tr>\n",
       "  </tbody>\n",
       "</table>\n",
       "</div>"
      ],
      "text/plain": [
       "                                           file_name  zero_crossing  \\\n",
       "0  (Tomake Paowa)  - Hridoy Khan & Tasnim Anika F...         125424   \n",
       "1        008. Jai Bole Jete Naire - Jewel (1980).mp3         308658   \n",
       "\n",
       "   spectral_centroid  spectral_rolloff  spectral_bandwidth  chroma_frequency  \\\n",
       "0        1770.889394       3893.575094         2414.810615          0.315795   \n",
       "1        2549.349989       4986.658880         2193.617981          0.310113   \n",
       "\n",
       "       rmse         delta  melspectogram       tempo       mfcc0       mfcc1  \\\n",
       "0  0.222552 -7.661680e-08      12.977708  172.265625 -107.906257  116.494382   \n",
       "1  0.156930  8.893313e-08       5.118271  143.554688  -68.452095   81.151777   \n",
       "\n",
       "       mfcc2      mfcc3      mfcc4      mfcc5      mfcc6      mfcc7  \\\n",
       "0  23.320857  17.535451   9.382846   6.854393  -0.293704  -0.007064   \n",
       "1 -35.804154  44.550898 -17.021686  18.244996 -18.741383  12.376125   \n",
       "\n",
       "       mfcc8     mfcc9     mfcc10    mfcc11     mfcc12     mfcc13    mfcc14  \\\n",
       "0  -7.914926  1.532803  -5.300817  3.164991  -3.867179   5.325016  1.176338   \n",
       "1 -16.116041  8.450346 -11.745541  8.358729 -12.691169  11.393858 -6.176215   \n",
       "\n",
       "     mfcc15    mfcc16    mfcc17    mfcc18    mfcc19    label  \n",
       "0 -0.788755 -6.343288  2.488148  0.047027  7.211918  adhunik  \n",
       "1  9.947330 -6.987708  7.935905 -9.452455  1.582699  adhunik  "
      ]
     },
     "execution_count": 7,
     "metadata": {},
     "output_type": "execute_result"
    }
   ],
   "source": [
    "df = pd.read_csv('dataset.csv', encoding='latin-1')\n",
    "pd.options.display.max_columns=None\n",
    "df.head(10)"
   ]
  },
  {
   "cell_type": "markdown",
   "metadata": {},
   "source": [
    "Zadanie 3: Narysuj rozkład poszczególnych danych (sns.displot). Porównaj cechy w kategoriach (sns.boxplot). Jakie cechy różnicują kategorie?"
   ]
  },
  {
   "cell_type": "code",
   "execution_count": 40,
   "metadata": {},
   "outputs": [
    {
     "name": "stdout",
     "output_type": "stream",
     "text": [
      "nazrul        312\n",
      "rabindra      297\n",
      "hiphop        295\n",
      "band          295\n",
      "adhunik       283\n",
      "palligeeti    260\n",
      "Name: label, dtype: int64\n"
     ]
    },
    {
     "data": {
      "image/png": "[encoded data removed]",
      "text/plain": [
       "<Figure size 432x288 with 1 Axes>"
      ]
     },
     "metadata": {
      "needs_background": "light"
     },
     "output_type": "display_data"
    }
   ],
   "source": [
    "X = df['label'].value_counts()\n",
    "\n",
    "classes = X.keys()\n",
    "\n",
    "label = {}\n",
    "\n",
    "for c in classes:\n",
    "    label[c] = X[c]\n",
    "\n",
    "plt.bar(label.keys(), label.values())\n",
    "plt.xlabel('Kategoria')\n",
    "plt.ylabel('Liczba')\n",
    "\n",
    "print(X)"
   ]
  },
  {
   "cell_type": "markdown",
   "metadata": {},
   "source": [
    "Stwórzmy osobne ramki dla poszczególnych kategorii"
   ]
  },
  {
   "cell_type": "code",
   "execution_count": 9,
   "metadata": {},
   "outputs": [],
   "source": [
    "data_adhunik = df[df['label'] == 'adhunik']\n",
    "data_band = df[df['label'] == 'band']\n",
    "data_hiphop = df[df['label'] == 'hiphop']\n",
    "data_nazrul = df[df['label'] == 'nazrul']\n",
    "data_palligeeti = df[df['label'] == 'palligeeti']\n",
    "data_rabindra = df[df['label'] == 'rabindra']"
   ]
  },
  {
   "cell_type": "code",
   "execution_count": 11,
   "metadata": {},
   "outputs": [],
   "source": [
    "data_list = [data_adhunik, data_band, data_hiphop, data_nazrul, data_palligeeti, data_rabindra]\n",
    "classes = np.array(['adhunik', 'band', 'hiphop', 'nazrul', 'palligeeti', 'rabindra'])"
   ]
  },
  {
   "cell_type": "markdown",
   "metadata": {},
   "source": [
    "Zadanie 4: Co robi poniższy kod? Zmień kolory wykresu. Dodaj etykiety danych do słupków."
   ]
  },
  {
   "cell_type": "code",
   "execution_count": 12,
   "metadata": {},
   "outputs": [
    {
     "name": "stdout",
     "output_type": "stream",
     "text": [
      "zero_crossing\n",
      "179833.67137809188\n",
      "275995.7152542373\n",
      "225064.01016949152\n",
      "184407.72435897434\n",
      "261663.73846153845\n",
      "169258.16498316498\n"
     ]
    },
    {
     "data": {
      "image/png": "[encoded data removed]",
      "text/plain": [
       "<Figure size 432x288 with 2 Axes>"
      ]
     },
     "metadata": {
      "needs_background": "light"
     },
     "output_type": "display_data"
    }
   ],
   "source": [
    "col_name = 'zero_crossing'\n",
    "print(col_name)\n",
    "y = []\n",
    "for data in data_list:\n",
    "    print(data[col_name].mean())\n",
    "    y.append(data[col_name].mean())\n",
    "y = np.array(y)\n",
    "colors = cm.hsv(y / float(max(y)))\n",
    "plot = plt.scatter(y, y, c = y, cmap = 'hsv')\n",
    "plt.clf()\n",
    "plt.colorbar(plot)\n",
    "plt.bar(classes, y, color = colors, width=0.6)\n",
    "plt.show()"
   ]
  },
  {
   "cell_type": "code",
   "execution_count": 13,
   "metadata": {},
   "outputs": [
    {
     "name": "stdout",
     "output_type": "stream",
     "text": [
      "spectral_centroid\n",
      "2004.755221108732\n",
      "2585.1004981981914\n",
      "2436.973775151505\n",
      "1363.5994732748848\n",
      "2233.453301876838\n",
      "1536.5376533372362\n"
     ]
    },
    {
     "data": {
      "image/png": "[encoded data removed]",
      "text/plain": [
       "<Figure size 432x288 with 2 Axes>"
      ]
     },
     "metadata": {
      "needs_background": "light"
     },
     "output_type": "display_data"
    }
   ],
   "source": [
    "col_name = 'spectral_centroid'\n",
    "print(col_name)\n",
    "y = []\n",
    "for data in data_list:\n",
    "    print(data[col_name].mean())\n",
    "    y.append(data[col_name].mean())\n",
    "y = np.array(y)\n",
    "colors = cm.hsv(y / float(max(y)))\n",
    "plot = plt.scatter(y, y, c = y, cmap = 'hsv')\n",
    "plt.clf()\n",
    "plt.colorbar(plot)\n",
    "plt.bar(classes, y, color = colors, width=0.6)\n",
    "plt.show()"
   ]
  },
  {
   "cell_type": "code",
   "execution_count": 14,
   "metadata": {},
   "outputs": [
    {
     "name": "stdout",
     "output_type": "stream",
     "text": [
      "spectral_rolloff\n",
      "4313.329030219406\n",
      "5396.123389211625\n",
      "5194.412510907178\n",
      "2449.7371480025135\n",
      "4414.39211426174\n",
      "2983.1727724146535\n"
     ]
    },
    {
     "data": {
      "image/png": "[encoded data removed]",
      "text/plain": [
       "<Figure size 432x288 with 2 Axes>"
      ]
     },
     "metadata": {
      "needs_background": "light"
     },
     "output_type": "display_data"
    }
   ],
   "source": [
    "col_name = 'spectral_rolloff'\n",
    "print(col_name)\n",
    "y = []\n",
    "for data in data_list:\n",
    "    print(data[col_name].mean())\n",
    "    y.append(data[col_name].mean())\n",
    "y = np.array(y)\n",
    "colors = cm.hsv(y / float(max(y)))\n",
    "plot = plt.scatter(y, y, c = y, cmap = 'hsv')\n",
    "plt.clf()\n",
    "plt.colorbar(plot)\n",
    "plt.bar(classes, y, color = colors, width=0.6)\n",
    "plt.show()"
   ]
  },
  {
   "cell_type": "code",
   "execution_count": 15,
   "metadata": {},
   "outputs": [
    {
     "name": "stdout",
     "output_type": "stream",
     "text": [
      "spectral_bandwidth\n",
      "2326.1618148804455\n",
      "2513.215376382651\n",
      "2512.7762357336333\n",
      "1236.3016089670282\n",
      "2111.88097648089\n",
      "1629.9497009604122\n"
     ]
    },
    {
     "data": {
      "image/png": "[encoded data removed]",
      "text/plain": [
       "<Figure size 432x288 with 2 Axes>"
      ]
     },
     "metadata": {
      "needs_background": "light"
     },
     "output_type": "display_data"
    }
   ],
   "source": [
    "col_name = 'spectral_bandwidth'\n",
    "print(col_name)\n",
    "y = []\n",
    "for data in data_list:\n",
    "    print(data[col_name].mean())\n",
    "    y.append(data[col_name].mean())\n",
    "y = np.array(y)\n",
    "colors = cm.hsv(y / float(max(y)))\n",
    "plot = plt.scatter(y, y, c = y, cmap = 'hsv')\n",
    "plt.clf()\n",
    "plt.colorbar(plot)\n",
    "plt.bar(classes, y, color = colors, width=0.6)\n",
    "plt.show()"
   ]
  },
  {
   "cell_type": "code",
   "execution_count": 16,
   "metadata": {},
   "outputs": [
    {
     "name": "stdout",
     "output_type": "stream",
     "text": [
      "chroma_frequency\n",
      "0.31287358583951597\n",
      "0.35978639505996607\n",
      "0.3888264347954499\n",
      "0.2385208801594986\n",
      "0.2837889299683471\n",
      "0.25048065993487884\n"
     ]
    },
    {
     "data": {
      "image/png": "[encoded data removed]",
      "text/plain": [
       "<Figure size 432x288 with 2 Axes>"
      ]
     },
     "metadata": {
      "needs_background": "light"
     },
     "output_type": "display_data"
    }
   ],
   "source": [
    "col_name = 'chroma_frequency'\n",
    "print(col_name)\n",
    "y = []\n",
    "for data in data_list:\n",
    "    print(data[col_name].mean())\n",
    "    y.append(data[col_name].mean())\n",
    "y = np.array(y)\n",
    "colors = cm.hsv(y / float(max(y)))\n",
    "plot = plt.scatter(y, y, c = y, cmap = 'hsv')\n",
    "plt.clf()\n",
    "plt.colorbar(plot)\n",
    "plt.bar(classes, y, color = colors, width=0.6)\n",
    "plt.show()"
   ]
  },
  {
   "cell_type": "code",
   "execution_count": 17,
   "metadata": {},
   "outputs": [
    {
     "name": "stdout",
     "output_type": "stream",
     "text": [
      "tempo\n",
      "119.84027513127766\n",
      "127.02895567930297\n",
      "112.95735878442223\n",
      "124.15518484953725\n",
      "125.12835234826758\n",
      "129.56600392149448\n"
     ]
    },
    {
     "data": {
      "image/png": "[encoded data removed]",
      "text/plain": [
       "<Figure size 432x288 with 2 Axes>"
      ]
     },
     "metadata": {
      "needs_background": "light"
     },
     "output_type": "display_data"
    }
   ],
   "source": [
    "col_name = 'tempo'\n",
    "print(col_name)\n",
    "y = []\n",
    "for data in data_list:\n",
    "    print(data[col_name].mean())\n",
    "    y.append(data[col_name].mean())\n",
    "y = np.array(y)\n",
    "colors = cm.hsv(y / float(max(y)))\n",
    "plot = plt.scatter(y, y, c = y, cmap = 'hsv')\n",
    "plt.clf()\n",
    "plt.colorbar(plot)\n",
    "plt.bar(classes, y, color = colors, width=0.6)\n",
    "plt.show()"
   ]
  },
  {
   "cell_type": "code",
   "execution_count": 18,
   "metadata": {},
   "outputs": [
    {
     "name": "stdout",
     "output_type": "stream",
     "text": [
      "zero_crossing\n",
      "179833.67137809188\n",
      "275995.7152542373\n",
      "225064.01016949152\n",
      "184407.72435897434\n",
      "261663.73846153845\n",
      "169258.16498316498\n"
     ]
    },
    {
     "data": {
      "image/png": "[encoded data removed]",
      "text/plain": [
       "<Figure size 432x288 with 2 Axes>"
      ]
     },
     "metadata": {
      "needs_background": "light"
     },
     "output_type": "display_data"
    }
   ],
   "source": [
    "col_name = 'zero_crossing'\n",
    "print(col_name)\n",
    "y = []\n",
    "for data in data_list:\n",
    "    print(data[col_name].mean())\n",
    "    y.append(data[col_name].mean())\n",
    "y = np.array(y)\n",
    "colors = cm.hsv(y / float(max(y)))\n",
    "plot = plt.scatter(y, y, c = y, cmap = 'hsv')\n",
    "plt.clf()\n",
    "plt.colorbar(plot)\n",
    "plt.bar(classes, y, color = colors, width=0.6)\n",
    "plt.show()"
   ]
  },
  {
   "cell_type": "code",
   "execution_count": 19,
   "metadata": {},
   "outputs": [
    {
     "name": "stdout",
     "output_type": "stream",
     "text": [
      "rmse\n",
      "0.1754621670010599\n",
      "0.16074368868813577\n",
      "0.20779618672881348\n",
      "0.17412291010576922\n",
      "0.169135676623077\n",
      "0.14150188897643104\n"
     ]
    },
    {
     "data": {
      "image/png": "[encoded data removed]",
      "text/plain": [
       "<Figure size 432x288 with 2 Axes>"
      ]
     },
     "metadata": {
      "needs_background": "light"
     },
     "output_type": "display_data"
    }
   ],
   "source": [
    "col_name = 'rmse'\n",
    "print(col_name)\n",
    "y = []\n",
    "for data in data_list:\n",
    "    print(data[col_name].mean())\n",
    "    y.append(data[col_name].mean())\n",
    "y = np.array(y)\n",
    "colors = cm.hsv(y / float(max(y)))\n",
    "plot = plt.scatter(y, y, c = y, cmap = 'hsv')\n",
    "plt.clf()\n",
    "plt.colorbar(plot)\n",
    "plt.bar(classes, y, color = colors, width=0.6)\n",
    "plt.show()"
   ]
  },
  {
   "cell_type": "markdown",
   "metadata": {},
   "source": [
    "Zadanie 5: Przygotujmy teraz dane do modelowania. Przypomnij  sobie, jak działa standaryzacja zmiennych. Zmień podział zbioru na 70:30."
   ]
  },
  {
   "cell_type": "code",
   "execution_count": 20,
   "metadata": {},
   "outputs": [],
   "source": [
    "y = df['label']\n",
    "X = df.drop(['file_name', 'label'], axis=1)\n",
    "\n",
    "sc = StandardScaler()\n",
    "X = sc.fit_transform(X)\n",
    "\n",
    "X_train, X_test, y_train, y_test = train_test_split(X, y, train_size=0.8) \n",
    "encoder = LabelEncoder()\n",
    "y_train = encoder.fit_transform(y_train)\n",
    "y_test = encoder.fit_transform(y_test)"
   ]
  },
  {
   "cell_type": "code",
   "execution_count": 21,
   "metadata": {},
   "outputs": [
    {
     "data": {
      "text/plain": [
       "array(['adhunik', 'band', 'hiphop', 'nazrul', 'palligeeti', 'rabindra'],\n",
       "      dtype=object)"
      ]
     },
     "execution_count": 21,
     "metadata": {},
     "output_type": "execute_result"
    }
   ],
   "source": [
    "encoder.classes_"
   ]
  },
  {
   "cell_type": "code",
   "execution_count": 22,
   "metadata": {},
   "outputs": [
    {
     "data": {
      "text/plain": [
       "array(['adhunik', 'band', 'hiphop', 'nazrul', 'palligeeti', 'rabindra'],\n",
       "      dtype=object)"
      ]
     },
     "execution_count": 22,
     "metadata": {},
     "output_type": "execute_result"
    }
   ],
   "source": [
    "encoder.inverse_transform([0, 1, 2, 3, 4, 5])"
   ]
  },
  {
   "cell_type": "code",
   "execution_count": 23,
   "metadata": {},
   "outputs": [
    {
     "name": "stdout",
     "output_type": "stream",
     "text": [
      "(1393, 29) (349, 29)\n"
     ]
    }
   ],
   "source": [
    "print(X_train.shape, X_test.shape)"
   ]
  },
  {
   "cell_type": "markdown",
   "metadata": {},
   "source": [
    "Zadanie 6: Zbudujmy sieć neuronową. Ile warstw ma sieć? Ile neuronów znajduje się w warstwie wejściowej? Dlaczego input_dim=29?Przeczytaj artykuł o funkcjach aktywacji https://ichi.pro/pl/funkcje-aktywacji-sigmoid-relu-leaky-relu-i-softmax-podstawy-dla-sieci-neuronowych-i-glebokiego-uczenia-155703049115934 Zastanów się, dlaczego używamy aktywacji relu i softmax? Ile wartości zwraca nasza sieć?"
   ]
  },
  {
   "cell_type": "code",
   "execution_count": 26,
   "metadata": {},
   "outputs": [
    {
     "name": "stdout",
     "output_type": "stream",
     "text": [
      "Model: \"sequential_2\"\n",
      "_________________________________________________________________\n",
      "Layer (type)                 Output Shape              Param #   \n",
      "=================================================================\n",
      "First_Layer (Dense)          (None, 256)               7680      \n",
      "_________________________________________________________________\n",
      "dropout (Dropout)            (None, 256)               0         \n",
      "_________________________________________________________________\n",
      "Second_Layer (Dense)         (None, 128)               32896     \n",
      "_________________________________________________________________\n",
      "dropout_1 (Dropout)          (None, 128)               0         \n",
      "_________________________________________________________________\n",
      "Third_Layer (Dense)          (None, 64)                8256      \n",
      "_________________________________________________________________\n",
      "dropout_2 (Dropout)          (None, 64)                0         \n",
      "_________________________________________________________________\n",
      "Fourth_Layer (Dense)         (None, 64)                4160      \n",
      "_________________________________________________________________\n",
      "dropout_3 (Dropout)          (None, 64)                0         \n",
      "_________________________________________________________________\n",
      "Output_Layer (Dense)         (None, 6)                 390       \n",
      "=================================================================\n",
      "Total params: 53,382\n",
      "Trainable params: 53,382\n",
      "Non-trainable params: 0\n",
      "_________________________________________________________________\n"
     ]
    }
   ],
   "source": [
    "model = Sequential()\n",
    "model.add(Dense(256, activation='relu', input_dim=29, name=\"Warstwa 1\", kernel_regularizer=l2(0.0001), bias_regularizer=l2(0.002)))\n",
    "model.add(Dropout(0.5))\n",
    "model.add(Dense(128, activation='relu', name=\"Warstwa 2\", kernel_regularizer=l2(0.002), bias_regularizer=l2(0.0001)))\n",
    "model.add(Dropout(0.4))\n",
    "model.add(Dense(64, activation='relu', name=\"Warstwa 3\", kernel_regularizer=l1(0.002), bias_regularizer=l2(0.001)))\n",
    "model.add(Dropout(0.4))\n",
    "model.add(Dense(64, activation='relu', name=\"Warstwa 4\", kernel_regularizer=l2(0.001), bias_regularizer=l2(0.0001)))\n",
    "model.add(Dropout(0.4))\n",
    "model.add(Dense(6, activation='softmax', name=\"Warstwa 5\", kernel_regularizer=l2(0.001), bias_regularizer=l2(0.002)))\n",
    "model.summary()"
   ]
  },
  {
   "cell_type": "markdown",
   "metadata": {},
   "source": [
    "Zadanie 6: Przeanlizuj kolejne epoki uczenia modelu. Jaką dokładność udało się osiągnąć na zbiorze testowym?"
   ]
  },
  {
   "cell_type": "code",
   "execution_count": 27,
   "metadata": {},
   "outputs": [
    {
     "name": "stdout",
     "output_type": "stream",
     "text": [
      "Epoch 1/100\n",
      "6/6 [==============================] - 40s 486ms/step - loss: 3.7216 - accuracy: 0.2005 - val_loss: 3.5183 - val_accuracy: 0.3871\n",
      "Epoch 2/100\n",
      "6/6 [==============================] - 0s 30ms/step - loss: 3.5898 - accuracy: 0.2124 - val_loss: 3.4231 - val_accuracy: 0.4373\n",
      "Epoch 3/100\n",
      "6/6 [==============================] - 0s 28ms/step - loss: 3.4693 - accuracy: 0.2671 - val_loss: 3.3171 - val_accuracy: 0.4552\n",
      "Epoch 4/100\n",
      "6/6 [==============================] - 0s 20ms/step - loss: 3.3717 - accuracy: 0.2868 - val_loss: 3.2003 - val_accuracy: 0.4731\n",
      "Epoch 5/100\n",
      "6/6 [==============================] - 0s 28ms/step - loss: 3.2295 - accuracy: 0.3123 - val_loss: 3.0736 - val_accuracy: 0.4659\n",
      "Epoch 6/100\n",
      "6/6 [==============================] - 0s 24ms/step - loss: 3.1708 - accuracy: 0.3362 - val_loss: 2.9642 - val_accuracy: 0.4803\n",
      "Epoch 7/100\n",
      "6/6 [==============================] - 0s 18ms/step - loss: 3.0505 - accuracy: 0.3405 - val_loss: 2.8716 - val_accuracy: 0.4910\n",
      "Epoch 8/100\n",
      "6/6 [==============================] - 0s 17ms/step - loss: 2.9820 - accuracy: 0.3568 - val_loss: 2.7892 - val_accuracy: 0.5090\n",
      "Epoch 9/100\n",
      "6/6 [==============================] - 0s 16ms/step - loss: 2.8721 - accuracy: 0.3701 - val_loss: 2.7118 - val_accuracy: 0.5090\n",
      "Epoch 10/100\n",
      "6/6 [==============================] - 0s 15ms/step - loss: 2.8382 - accuracy: 0.3969 - val_loss: 2.6350 - val_accuracy: 0.5376\n",
      "Epoch 11/100\n",
      "6/6 [==============================] - 0s 17ms/step - loss: 2.7174 - accuracy: 0.4078 - val_loss: 2.5542 - val_accuracy: 0.5412\n",
      "Epoch 12/100\n",
      "6/6 [==============================] - 0s 17ms/step - loss: 2.6444 - accuracy: 0.4286 - val_loss: 2.4751 - val_accuracy: 0.5484\n",
      "Epoch 13/100\n",
      "6/6 [==============================] - 0s 19ms/step - loss: 2.5832 - accuracy: 0.4563 - val_loss: 2.4029 - val_accuracy: 0.5520\n",
      "Epoch 14/100\n",
      "6/6 [==============================] - 0s 17ms/step - loss: 2.5245 - accuracy: 0.4448 - val_loss: 2.3364 - val_accuracy: 0.5591\n",
      "Epoch 15/100\n",
      "6/6 [==============================] - 0s 19ms/step - loss: 2.3998 - accuracy: 0.4873 - val_loss: 2.2787 - val_accuracy: 0.5771\n",
      "Epoch 16/100\n",
      "6/6 [==============================] - 0s 18ms/step - loss: 2.3371 - accuracy: 0.4804 - val_loss: 2.2267 - val_accuracy: 0.5986\n",
      "Epoch 17/100\n",
      "6/6 [==============================] - 0s 29ms/step - loss: 2.2476 - accuracy: 0.5175 - val_loss: 2.1677 - val_accuracy: 0.5950\n",
      "Epoch 18/100\n",
      "6/6 [==============================] - 0s 13ms/step - loss: 2.2282 - accuracy: 0.5053 - val_loss: 2.1130 - val_accuracy: 0.6165\n",
      "Epoch 19/100\n",
      "6/6 [==============================] - 0s 10ms/step - loss: 2.1700 - accuracy: 0.5297 - val_loss: 2.0612 - val_accuracy: 0.6057\n",
      "Epoch 20/100\n",
      "6/6 [==============================] - 0s 10ms/step - loss: 2.0798 - accuracy: 0.5633 - val_loss: 2.0225 - val_accuracy: 0.6093\n",
      "Epoch 21/100\n",
      "6/6 [==============================] - 0s 12ms/step - loss: 2.0760 - accuracy: 0.5291 - val_loss: 1.9781 - val_accuracy: 0.6129\n",
      "Epoch 22/100\n",
      "6/6 [==============================] - 0s 13ms/step - loss: 2.0044 - accuracy: 0.5394 - val_loss: 1.9208 - val_accuracy: 0.6129\n",
      "Epoch 23/100\n",
      "6/6 [==============================] - 0s 15ms/step - loss: 1.9802 - accuracy: 0.5661 - val_loss: 1.8729 - val_accuracy: 0.6272\n",
      "Epoch 24/100\n",
      "6/6 [==============================] - 0s 15ms/step - loss: 1.8717 - accuracy: 0.5840 - val_loss: 1.8386 - val_accuracy: 0.6308\n",
      "Epoch 25/100\n",
      "6/6 [==============================] - 0s 18ms/step - loss: 1.8274 - accuracy: 0.6062 - val_loss: 1.8028 - val_accuracy: 0.6380\n",
      "Epoch 26/100\n",
      "6/6 [==============================] - 0s 13ms/step - loss: 1.8341 - accuracy: 0.5649 - val_loss: 1.7860 - val_accuracy: 0.6344\n",
      "Epoch 27/100\n",
      "6/6 [==============================] - 0s 10ms/step - loss: 1.8520 - accuracy: 0.5885 - val_loss: 1.7390 - val_accuracy: 0.6237\n",
      "Epoch 28/100\n",
      "6/6 [==============================] - 0s 10ms/step - loss: 1.7226 - accuracy: 0.6181 - val_loss: 1.6995 - val_accuracy: 0.6344\n",
      "Epoch 29/100\n",
      "6/6 [==============================] - 0s 11ms/step - loss: 1.6779 - accuracy: 0.6211 - val_loss: 1.6874 - val_accuracy: 0.6452\n",
      "Epoch 30/100\n",
      "6/6 [==============================] - 0s 10ms/step - loss: 1.6702 - accuracy: 0.6229 - val_loss: 1.6709 - val_accuracy: 0.6595\n",
      "Epoch 31/100\n",
      "6/6 [==============================] - 0s 11ms/step - loss: 1.6680 - accuracy: 0.6071 - val_loss: 1.6323 - val_accuracy: 0.6523\n",
      "Epoch 32/100\n",
      "6/6 [==============================] - 0s 11ms/step - loss: 1.6419 - accuracy: 0.6124 - val_loss: 1.5986 - val_accuracy: 0.6308\n",
      "Epoch 33/100\n",
      "6/6 [==============================] - 0s 14ms/step - loss: 1.5849 - accuracy: 0.6320 - val_loss: 1.5742 - val_accuracy: 0.6308\n",
      "Epoch 34/100\n",
      "6/6 [==============================] - 0s 17ms/step - loss: 1.5959 - accuracy: 0.6171 - val_loss: 1.5575 - val_accuracy: 0.6703\n",
      "Epoch 35/100\n",
      "6/6 [==============================] - 0s 10ms/step - loss: 1.5416 - accuracy: 0.6370 - val_loss: 1.5427 - val_accuracy: 0.6631\n",
      "Epoch 36/100\n",
      "6/6 [==============================] - 0s 11ms/step - loss: 1.5337 - accuracy: 0.6397 - val_loss: 1.5249 - val_accuracy: 0.6487\n",
      "Epoch 37/100\n",
      "6/6 [==============================] - 0s 13ms/step - loss: 1.4750 - accuracy: 0.6847 - val_loss: 1.4907 - val_accuracy: 0.6523\n",
      "Epoch 38/100\n",
      "6/6 [==============================] - 0s 12ms/step - loss: 1.4660 - accuracy: 0.6552 - val_loss: 1.4821 - val_accuracy: 0.6631\n",
      "Epoch 39/100\n",
      "6/6 [==============================] - 0s 12ms/step - loss: 1.4633 - accuracy: 0.6545 - val_loss: 1.4766 - val_accuracy: 0.6631\n",
      "Epoch 40/100\n",
      "6/6 [==============================] - 0s 11ms/step - loss: 1.3965 - accuracy: 0.6799 - val_loss: 1.4690 - val_accuracy: 0.6703\n",
      "Epoch 41/100\n",
      "6/6 [==============================] - 0s 11ms/step - loss: 1.4241 - accuracy: 0.6616 - val_loss: 1.4537 - val_accuracy: 0.6559\n",
      "Epoch 42/100\n",
      "6/6 [==============================] - 0s 11ms/step - loss: 1.3842 - accuracy: 0.6487 - val_loss: 1.4555 - val_accuracy: 0.6559\n",
      "Epoch 43/100\n",
      "6/6 [==============================] - 0s 10ms/step - loss: 1.3758 - accuracy: 0.6617 - val_loss: 1.4366 - val_accuracy: 0.6559\n",
      "Epoch 44/100\n",
      "6/6 [==============================] - 0s 13ms/step - loss: 1.3533 - accuracy: 0.7023 - val_loss: 1.4238 - val_accuracy: 0.6487\n",
      "Epoch 45/100\n",
      "6/6 [==============================] - 0s 12ms/step - loss: 1.3340 - accuracy: 0.6858 - val_loss: 1.4250 - val_accuracy: 0.6523\n",
      "Epoch 46/100\n",
      "6/6 [==============================] - 0s 10ms/step - loss: 1.3229 - accuracy: 0.6804 - val_loss: 1.4088 - val_accuracy: 0.6703\n",
      "Epoch 47/100\n",
      "6/6 [==============================] - 0s 9ms/step - loss: 1.2897 - accuracy: 0.6872 - val_loss: 1.3881 - val_accuracy: 0.6667\n",
      "Epoch 48/100\n",
      "6/6 [==============================] - 0s 9ms/step - loss: 1.2618 - accuracy: 0.7091 - val_loss: 1.3620 - val_accuracy: 0.6774\n",
      "Epoch 49/100\n",
      "6/6 [==============================] - 0s 10ms/step - loss: 1.2655 - accuracy: 0.6886 - val_loss: 1.3770 - val_accuracy: 0.6703\n",
      "Epoch 50/100\n",
      "6/6 [==============================] - 0s 12ms/step - loss: 1.2890 - accuracy: 0.6821 - val_loss: 1.3841 - val_accuracy: 0.6738\n",
      "Epoch 51/100\n",
      "6/6 [==============================] - 0s 12ms/step - loss: 1.2790 - accuracy: 0.6757 - val_loss: 1.3527 - val_accuracy: 0.6631\n",
      "Epoch 52/100\n",
      "6/6 [==============================] - 0s 12ms/step - loss: 1.2290 - accuracy: 0.7073 - val_loss: 1.3517 - val_accuracy: 0.6738\n",
      "Epoch 53/100\n",
      "6/6 [==============================] - 0s 10ms/step - loss: 1.2366 - accuracy: 0.6985 - val_loss: 1.3564 - val_accuracy: 0.6738\n",
      "Epoch 54/100\n",
      "6/6 [==============================] - 0s 10ms/step - loss: 1.2047 - accuracy: 0.7100 - val_loss: 1.3461 - val_accuracy: 0.6703\n",
      "Epoch 55/100\n",
      "6/6 [==============================] - 0s 9ms/step - loss: 1.2106 - accuracy: 0.6950 - val_loss: 1.3374 - val_accuracy: 0.6631\n",
      "Epoch 56/100\n",
      "6/6 [==============================] - 0s 10ms/step - loss: 1.2336 - accuracy: 0.7078 - val_loss: 1.3358 - val_accuracy: 0.6703\n",
      "Epoch 57/100\n",
      "6/6 [==============================] - 0s 10ms/step - loss: 1.2091 - accuracy: 0.7040 - val_loss: 1.3309 - val_accuracy: 0.6703\n",
      "Epoch 58/100\n",
      "6/6 [==============================] - 0s 11ms/step - loss: 1.1691 - accuracy: 0.7070 - val_loss: 1.3128 - val_accuracy: 0.6703\n",
      "Epoch 59/100\n"
     ]
    },
    {
     "name": "stdout",
     "output_type": "stream",
     "text": [
      "6/6 [==============================] - 0s 12ms/step - loss: 1.1835 - accuracy: 0.7128 - val_loss: 1.3164 - val_accuracy: 0.6738\n",
      "Epoch 60/100\n",
      "6/6 [==============================] - 0s 11ms/step - loss: 1.1723 - accuracy: 0.7028 - val_loss: 1.3035 - val_accuracy: 0.6918\n",
      "Epoch 61/100\n",
      "6/6 [==============================] - 0s 11ms/step - loss: 1.1932 - accuracy: 0.6909 - val_loss: 1.2888 - val_accuracy: 0.6882\n",
      "Epoch 62/100\n",
      "6/6 [==============================] - 0s 12ms/step - loss: 1.1411 - accuracy: 0.7143 - val_loss: 1.3023 - val_accuracy: 0.6667\n",
      "Epoch 63/100\n",
      "6/6 [==============================] - 0s 15ms/step - loss: 1.1183 - accuracy: 0.7159 - val_loss: 1.2989 - val_accuracy: 0.6810\n",
      "Epoch 64/100\n",
      "6/6 [==============================] - 0s 15ms/step - loss: 1.1052 - accuracy: 0.7223 - val_loss: 1.2901 - val_accuracy: 0.6810\n",
      "Epoch 65/100\n",
      "6/6 [==============================] - 0s 13ms/step - loss: 1.1177 - accuracy: 0.7087 - val_loss: 1.3051 - val_accuracy: 0.6774\n",
      "Epoch 66/100\n",
      "6/6 [==============================] - 0s 13ms/step - loss: 1.0951 - accuracy: 0.7088 - val_loss: 1.2844 - val_accuracy: 0.6846\n",
      "Epoch 67/100\n",
      "6/6 [==============================] - 0s 18ms/step - loss: 1.1461 - accuracy: 0.7083 - val_loss: 1.2646 - val_accuracy: 0.6738\n",
      "Epoch 68/100\n",
      "6/6 [==============================] - 0s 18ms/step - loss: 1.1329 - accuracy: 0.6970 - val_loss: 1.2678 - val_accuracy: 0.6703\n",
      "Epoch 69/100\n",
      "6/6 [==============================] - 0s 13ms/step - loss: 1.0339 - accuracy: 0.7392 - val_loss: 1.2782 - val_accuracy: 0.7061\n",
      "Epoch 70/100\n",
      "6/6 [==============================] - 0s 11ms/step - loss: 1.1068 - accuracy: 0.7295 - val_loss: 1.2665 - val_accuracy: 0.6774\n",
      "Epoch 71/100\n",
      "6/6 [==============================] - 0s 11ms/step - loss: 1.0456 - accuracy: 0.7362 - val_loss: 1.2633 - val_accuracy: 0.6918\n",
      "Epoch 72/100\n",
      "6/6 [==============================] - 0s 14ms/step - loss: 1.1200 - accuracy: 0.7011 - val_loss: 1.2741 - val_accuracy: 0.6918\n",
      "Epoch 73/100\n",
      "6/6 [==============================] - 0s 11ms/step - loss: 1.0511 - accuracy: 0.7484 - val_loss: 1.2762 - val_accuracy: 0.6918\n",
      "Epoch 74/100\n",
      "6/6 [==============================] - 0s 23ms/step - loss: 1.0563 - accuracy: 0.7386 - val_loss: 1.2557 - val_accuracy: 0.6810\n",
      "Epoch 75/100\n",
      "6/6 [==============================] - 0s 14ms/step - loss: 1.0570 - accuracy: 0.7357 - val_loss: 1.2485 - val_accuracy: 0.6810\n",
      "Epoch 76/100\n",
      "6/6 [==============================] - 0s 12ms/step - loss: 1.0678 - accuracy: 0.7170 - val_loss: 1.2518 - val_accuracy: 0.6882\n",
      "Epoch 77/100\n",
      "6/6 [==============================] - 0s 17ms/step - loss: 1.0118 - accuracy: 0.7534 - val_loss: 1.2568 - val_accuracy: 0.6953\n",
      "Epoch 78/100\n",
      "6/6 [==============================] - 0s 15ms/step - loss: 1.0558 - accuracy: 0.7334 - val_loss: 1.2562 - val_accuracy: 0.6774\n",
      "Epoch 79/100\n",
      "6/6 [==============================] - 0s 16ms/step - loss: 1.0376 - accuracy: 0.7329 - val_loss: 1.2525 - val_accuracy: 0.6846\n",
      "Epoch 80/100\n",
      "6/6 [==============================] - 0s 14ms/step - loss: 1.0090 - accuracy: 0.7377 - val_loss: 1.2618 - val_accuracy: 0.6989\n",
      "Epoch 81/100\n",
      "6/6 [==============================] - 0s 20ms/step - loss: 1.0169 - accuracy: 0.7592 - val_loss: 1.2548 - val_accuracy: 0.6989\n",
      "Epoch 82/100\n",
      "6/6 [==============================] - 0s 15ms/step - loss: 1.0346 - accuracy: 0.7421 - val_loss: 1.2563 - val_accuracy: 0.6953\n",
      "Epoch 83/100\n",
      "6/6 [==============================] - 0s 11ms/step - loss: 1.0636 - accuracy: 0.7382 - val_loss: 1.2496 - val_accuracy: 0.6882\n",
      "Epoch 84/100\n",
      "6/6 [==============================] - 0s 11ms/step - loss: 0.9957 - accuracy: 0.7390 - val_loss: 1.2449 - val_accuracy: 0.6989\n",
      "Epoch 85/100\n",
      "6/6 [==============================] - 0s 11ms/step - loss: 1.0276 - accuracy: 0.7398 - val_loss: 1.2563 - val_accuracy: 0.6953\n",
      "Epoch 86/100\n",
      "6/6 [==============================] - 0s 12ms/step - loss: 1.0097 - accuracy: 0.7441 - val_loss: 1.2565 - val_accuracy: 0.6953\n",
      "Epoch 87/100\n",
      "6/6 [==============================] - 0s 11ms/step - loss: 0.9845 - accuracy: 0.7777 - val_loss: 1.2434 - val_accuracy: 0.7061\n",
      "Epoch 88/100\n",
      "6/6 [==============================] - 0s 14ms/step - loss: 0.9645 - accuracy: 0.7688 - val_loss: 1.2386 - val_accuracy: 0.7025\n",
      "Epoch 89/100\n",
      "6/6 [==============================] - 0s 14ms/step - loss: 0.9723 - accuracy: 0.7607 - val_loss: 1.2325 - val_accuracy: 0.6953\n",
      "Epoch 90/100\n",
      "6/6 [==============================] - 0s 14ms/step - loss: 0.9862 - accuracy: 0.7600 - val_loss: 1.2285 - val_accuracy: 0.7061\n",
      "Epoch 91/100\n",
      "6/6 [==============================] - 0s 14ms/step - loss: 1.0411 - accuracy: 0.7533 - val_loss: 1.2125 - val_accuracy: 0.6989\n",
      "Epoch 92/100\n",
      "6/6 [==============================] - 0s 14ms/step - loss: 0.9797 - accuracy: 0.7619 - val_loss: 1.2244 - val_accuracy: 0.6953\n",
      "Epoch 93/100\n",
      "6/6 [==============================] - 0s 13ms/step - loss: 0.9697 - accuracy: 0.7664 - val_loss: 1.2252 - val_accuracy: 0.7133\n",
      "Epoch 94/100\n",
      "6/6 [==============================] - 0s 13ms/step - loss: 0.9594 - accuracy: 0.7666 - val_loss: 1.2323 - val_accuracy: 0.7025\n",
      "Epoch 95/100\n",
      "6/6 [==============================] - 0s 16ms/step - loss: 1.0138 - accuracy: 0.7367 - val_loss: 1.2341 - val_accuracy: 0.6989\n",
      "Epoch 96/100\n",
      "6/6 [==============================] - 0s 29ms/step - loss: 0.9693 - accuracy: 0.7608 - val_loss: 1.2175 - val_accuracy: 0.6953\n",
      "Epoch 97/100\n",
      "6/6 [==============================] - 0s 19ms/step - loss: 0.9969 - accuracy: 0.7576 - val_loss: 1.2205 - val_accuracy: 0.6953\n",
      "Epoch 98/100\n",
      "6/6 [==============================] - 0s 11ms/step - loss: 1.0030 - accuracy: 0.7506 - val_loss: 1.2361 - val_accuracy: 0.6989\n",
      "Epoch 99/100\n",
      "6/6 [==============================] - 0s 12ms/step - loss: 0.9465 - accuracy: 0.7757 - val_loss: 1.2213 - val_accuracy: 0.7061\n",
      "Epoch 100/100\n",
      "6/6 [==============================] - 0s 13ms/step - loss: 0.9441 - accuracy: 0.7735 - val_loss: 1.2161 - val_accuracy: 0.6953\n"
     ]
    }
   ],
   "source": [
    "model.compile(optimizer='adam', loss='sparse_categorical_crossentropy', metrics=['accuracy'])\n",
    "\n",
    "history = model.fit(X_train, y_train, batch_size=200, validation_data=(X_test, y_test), validation_split=0.2, epochs=100)"
   ]
  },
  {
   "cell_type": "markdown",
   "metadata": {},
   "source": [
    "A teraz zobaczmy, jak sprawuje się nasza sieć na zbiorze testowym."
   ]
  },
  {
   "cell_type": "code",
   "execution_count": 28,
   "metadata": {},
   "outputs": [
    {
     "name": "stderr",
     "output_type": "stream",
     "text": [
      "C:\\Users\\akotarba\\AppData\\Roaming\\Python\\Python38\\site-packages\\keras\\engine\\sequential.py:450: UserWarning: `model.predict_classes()` is deprecated and will be removed after 2021-01-01. Please use instead:* `np.argmax(model.predict(x), axis=-1)`,   if your model does multi-class classification   (e.g. if it uses a `softmax` last-layer activation).* `(model.predict(x) > 0.5).astype(\"int32\")`,   if your model does binary classification   (e.g. if it uses a `sigmoid` last-layer activation).\n",
      "  warnings.warn('`model.predict_classes()` is deprecated and '\n"
     ]
    },
    {
     "data": {
      "text/plain": [
       "array([0, 0, 2, 4, 2, 0, 0, 3, 5, 4, 0, 0, 4, 5, 5, 0, 2, 1, 0, 0, 1, 5,\n",
       "       1, 0, 3, 0, 3, 3, 2, 0, 3, 3, 3, 4, 3, 4, 5, 4, 1, 4, 2, 2, 1, 5,\n",
       "       5, 4, 1, 5, 3, 3, 0, 0, 3, 5, 1, 5, 5, 5, 3, 4, 4, 0, 1, 5, 5, 4,\n",
       "       3, 4, 4, 5, 0, 1, 5, 1, 1, 1, 2, 1, 5, 5, 2, 0, 5, 1, 1, 5, 3, 5,\n",
       "       2, 5, 0, 2, 5, 1, 2, 0, 1, 3, 4, 3, 0, 5, 1, 1, 5, 3, 5, 4, 5, 1,\n",
       "       2, 0, 1, 5, 2, 5, 0, 2, 0, 5, 2, 2, 0, 5, 1, 4, 0, 0, 5, 1, 1, 3,\n",
       "       2, 1, 2, 5, 2, 0, 4, 5, 3, 4, 3, 1, 5, 4, 1, 3, 0, 5, 0, 2, 5, 1,\n",
       "       3, 5, 0, 5, 5, 0, 2, 1, 0, 1, 3, 0, 5, 2, 2, 0, 3, 1, 4, 3, 1, 0,\n",
       "       0, 3, 1, 0, 2, 0, 3, 0, 1, 3, 5, 2, 5, 4, 1, 2, 5, 2, 2, 3, 5, 4,\n",
       "       4, 5, 0, 3, 0, 5, 3, 0, 0, 3, 0, 2, 2, 5, 1, 4, 2, 5, 2, 5, 1, 3,\n",
       "       1, 1, 5, 4, 3, 3, 5, 0, 2, 4, 5, 5, 1, 1, 1, 2, 5, 5, 4, 4, 3, 5,\n",
       "       5, 2, 2, 2, 1, 0, 1, 4, 3, 1, 4, 2, 5, 1, 4, 4, 0, 3, 5, 4, 1, 4,\n",
       "       0, 0, 4, 5, 5, 5, 2, 4, 4, 2, 5, 3, 2, 2, 3, 3, 0, 2, 4, 5, 0, 0,\n",
       "       3, 2, 4, 0, 1, 5, 2, 4, 2, 0, 1, 2, 2, 4, 3, 2, 2, 1, 5, 1, 0, 3,\n",
       "       2, 3, 3, 3, 1, 0, 0, 3, 3, 3, 1, 4, 1, 2, 5, 5, 0, 4, 3, 0, 3, 0,\n",
       "       3, 2, 2, 5, 1, 4, 1, 5, 0, 5, 2, 5, 2, 2, 1, 0, 0, 1, 1],\n",
       "      dtype=int64)"
      ]
     },
     "execution_count": 28,
     "metadata": {},
     "output_type": "execute_result"
    }
   ],
   "source": [
    "y_predict = model.predict_classes(X_test)\n",
    "y_predict"
   ]
  },
  {
   "cell_type": "code",
   "execution_count": 29,
   "metadata": {},
   "outputs": [
    {
     "data": {
      "text/plain": [
       "dict_keys(['loss', 'accuracy', 'val_loss', 'val_accuracy'])"
      ]
     },
     "execution_count": 29,
     "metadata": {},
     "output_type": "execute_result"
    }
   ],
   "source": [
    "history.history.keys()"
   ]
  },
  {
   "cell_type": "code",
   "execution_count": 30,
   "metadata": {},
   "outputs": [
    {
     "name": "stdout",
     "output_type": "stream",
     "text": [
      "11/11 [==============================] - 0s 3ms/step - loss: 1.1290 - accuracy: 0.6734\n",
      "1.12903892993927 0.6733524203300476\n"
     ]
    }
   ],
   "source": [
    "score, acc = model.evaluate(X_test, y_test)\n",
    "print(score, acc)"
   ]
  },
  {
   "cell_type": "code",
   "execution_count": 31,
   "metadata": {},
   "outputs": [
    {
     "data": {
      "image/png": "[encoded data removed]",
      "text/plain": [
       "<Figure size 432x288 with 1 Axes>"
      ]
     },
     "metadata": {
      "needs_background": "light"
     },
     "output_type": "display_data"
    }
   ],
   "source": [
    "plt.plot(history.history['accuracy'])\n",
    "plt.plot(history.history['val_accuracy'])\n",
    "plt.title('Train vs Validation Accuracy')\n",
    "plt.ylabel('accuracy')\n",
    "plt.xlabel('epoch')\n",
    "plt.legend(['training accuracy', 'validation accuracy'], loc='lower right')\n",
    "plt.show()"
   ]
  },
  {
   "cell_type": "code",
   "execution_count": 32,
   "metadata": {},
   "outputs": [
    {
     "data": {
      "image/png": "[encoded data removed]",
      "text/plain": [
       "<Figure size 432x288 with 1 Axes>"
      ]
     },
     "metadata": {
      "needs_background": "light"
     },
     "output_type": "display_data"
    }
   ],
   "source": [
    "plt.plot(history.history['loss'])\n",
    "plt.plot(history.history['val_loss'])\n",
    "plt.title('Train Loss vs Validation Loss')\n",
    "plt.ylabel('loss')\n",
    "plt.xlabel('epoch')\n",
    "plt.legend(['training loss', 'vaidation loss'], loc='upper right')\n",
    "plt.show()"
   ]
  },
  {
   "cell_type": "code",
   "execution_count": 33,
   "metadata": {},
   "outputs": [
    {
     "data": {
      "text/plain": [
       "<AxesSubplot:>"
      ]
     },
     "execution_count": 33,
     "metadata": {},
     "output_type": "execute_result"
    },
    {
     "data": {
      "image/png": "[encoded data removed]",
      "text/plain": [
       "<Figure size 432x288 with 2 Axes>"
      ]
     },
     "metadata": {
      "needs_background": "light"
     },
     "output_type": "display_data"
    }
   ],
   "source": [
    "con_mat = confusion_matrix(y_test, y_predict)\n",
    "df_cm = pd.DataFrame(con_mat, columns=encoder.classes_, index=encoder.classes_)\n",
    "sn.heatmap(df_cm, annot=True)"
   ]
  },
  {
   "cell_type": "markdown",
   "metadata": {},
   "source": [
    "Zadanie 7: Z powyższej macierzy wywnioskuj, z dopasowaniem której kategorii model radzi sobie najlepiej? A której najgorzej?"
   ]
  },
  {
   "cell_type": "code",
   "execution_count": 34,
   "metadata": {},
   "outputs": [
    {
     "name": "stdout",
     "output_type": "stream",
     "text": [
      "              precision    recall  f1-score   support\n",
      "\n",
      "     adhunik       0.60      0.68      0.64        56\n",
      "        band       0.73      0.69      0.71        62\n",
      "      hiphop       0.67      0.75      0.70        51\n",
      "      nazrul       0.83      0.68      0.75        65\n",
      "  palligeeti       0.57      0.50      0.53        50\n",
      "    rabindra       0.64      0.72      0.68        65\n",
      "\n",
      "    accuracy                           0.67       349\n",
      "   macro avg       0.67      0.67      0.67       349\n",
      "weighted avg       0.68      0.67      0.67       349\n",
      "\n"
     ]
    }
   ],
   "source": [
    "print(classification_report(y_test, y_predict, target_names=encoder.classes_))"
   ]
  },
  {
   "cell_type": "code",
   "execution_count": 35,
   "metadata": {},
   "outputs": [
    {
     "name": "stdout",
     "output_type": "stream",
     "text": [
      "Total:  349 True:  235 False:  114\n"
     ]
    }
   ],
   "source": [
    "false = 0\n",
    "true = 0\n",
    "for i in range(len(y_predict)):\n",
    "    if y_predict[i] == y_test[i]:\n",
    "        true += 1\n",
    "    else:\n",
    "        false += 1\n",
    "print('Total: ', false + true, 'True: ', true, 'False: ', false)"
   ]
  },
  {
   "cell_type": "markdown",
   "metadata": {},
   "source": [
    "Zadanie*: Spróbuj zmodyfikować architekturę sieci, tak aby osiągała wyższą dokładność (więcej niż 67%). Możesz np. dodać warstwy lub zwiększyć liczby neuronów. Albo np. zrobić transformacje zmiennych."
   ]
  },
  {
   "cell_type": "code",
   "execution_count": null,
   "metadata": {},
   "outputs": [],
   "source": []
  }
 ],
 "metadata": {
  "kernelspec": {
   "display_name": "Python 3",
   "language": "python",
   "name": "python3"
  },
  "language_info": {
   "codemirror_mode": {
    "name": "ipython",
    "version": 3
   },
   "file_extension": ".py",
   "mimetype": "text/x-python",
   "name": "python",
   "nbconvert_exporter": "python",
   "pygments_lexer": "ipython3",
   "version": "3.8.5"
  }
 },
 "nbformat": 4,
 "nbformat_minor": 4
}
